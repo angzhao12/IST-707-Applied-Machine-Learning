{
 "cells": [
  {
   "cell_type": "code",
   "execution_count": 279,
   "id": "f7018f50",
   "metadata": {},
   "outputs": [],
   "source": [
    "import pandas as pd\n",
    "import re\n",
    "import os\n",
    "from pathlib import Path\n",
    "import glob\n",
    "import numpy as np\n",
    "import matplotlib.pyplot as plt\n",
    "%matplotlib inline\n",
    "plt.style.use(\"ggplot\")\n",
    "from sklearn.naive_bayes import GaussianNB\n",
    "path='F:/fall 2022/IST 707/homework/week 8/kaggle_digits'"
   ]
  },
  {
   "cell_type": "code",
   "execution_count": 280,
   "id": "00a25759",
   "metadata": {},
   "outputs": [],
   "source": [
    "df=pd.read_csv('F:/fall 2022/IST 707/homework/week 8/kaggle_digits/Kaggle-digit-train.csv').astype(float)"
   ]
  },
  {
   "cell_type": "code",
   "execution_count": 161,
   "id": "6f54e5e8",
   "metadata": {},
   "outputs": [
    {
     "name": "stdout",
     "output_type": "stream",
     "text": [
      "<class 'pandas.core.frame.DataFrame'>\n",
      "RangeIndex: 42000 entries, 0 to 41999\n",
      "Columns: 785 entries, label to pixel783\n",
      "dtypes: float64(785)\n",
      "memory usage: 251.5 MB\n"
     ]
    }
   ],
   "source": [
    "#check info of the data\n",
    "df.info()"
   ]
  },
  {
   "cell_type": "code",
   "execution_count": 162,
   "id": "3785db43",
   "metadata": {},
   "outputs": [
    {
     "name": "stdout",
     "output_type": "stream",
     "text": [
      "There are 0 categorical variables\n",
      "\n",
      "The categorical variables are :\n",
      "\n",
      " []\n"
     ]
    }
   ],
   "source": [
    "#check categorical variables\n",
    "categorical = [var for var in df.columns if df[var].dtype=='O']\n",
    "\n",
    "print('There are {} categorical variables\\n'.format(len(categorical)))\n",
    "\n",
    "print('The categorical variables are :\\n\\n', categorical)"
   ]
  },
  {
   "cell_type": "code",
   "execution_count": 163,
   "id": "03387c36",
   "metadata": {},
   "outputs": [
    {
     "name": "stdout",
     "output_type": "stream",
     "text": [
      "There are 785 numerical variables\n",
      "\n"
     ]
    }
   ],
   "source": [
    "#check numerical variables\n",
    "numerical = [var for var in df.columns if df[var].dtype!='O']\n",
    "\n",
    "print('There are {} numerical variables\\n'.format(len(numerical)))\n",
    "\n",
    "#print('The numerical variables are :', numerical)"
   ]
  },
  {
   "cell_type": "code",
   "execution_count": 164,
   "id": "da0e1566",
   "metadata": {},
   "outputs": [
    {
     "data": {
      "text/plain": [
       "Series([], dtype: float64)"
      ]
     },
     "execution_count": 164,
     "metadata": {},
     "output_type": "execute_result"
    }
   ],
   "source": [
    "# check missing values in numerical variables\n",
    "df[categorical].isnull().sum()"
   ]
  },
  {
   "cell_type": "code",
   "execution_count": 165,
   "id": "b9b8d0ec",
   "metadata": {},
   "outputs": [
    {
     "data": {
      "text/plain": [
       "label       0\n",
       "pixel0      0\n",
       "pixel1      0\n",
       "pixel2      0\n",
       "pixel3      0\n",
       "           ..\n",
       "pixel779    0\n",
       "pixel780    0\n",
       "pixel781    0\n",
       "pixel782    0\n",
       "pixel783    0\n",
       "Length: 785, dtype: int64"
      ]
     },
     "execution_count": 165,
     "metadata": {},
     "output_type": "execute_result"
    }
   ],
   "source": [
    "# check missing values in numerical variables\n",
    "df[numerical].isnull().sum()\n",
    "#no missing values amoung all features"
   ]
  },
  {
   "cell_type": "code",
   "execution_count": 286,
   "id": "93287b69",
   "metadata": {},
   "outputs": [],
   "source": [
    "X = df.drop(['label'], axis=1).astype(float)\n",
    "\n",
    "y = df['label'].astype(float)"
   ]
  },
  {
   "cell_type": "code",
   "execution_count": 287,
   "id": "3ccb188e",
   "metadata": {},
   "outputs": [
    {
     "name": "stdout",
     "output_type": "stream",
     "text": [
      "<class 'pandas.core.frame.DataFrame'>\n",
      "RangeIndex: 42000 entries, 0 to 41999\n",
      "Columns: 784 entries, pixel0 to pixel783\n",
      "dtypes: float64(784)\n",
      "memory usage: 251.2 MB\n"
     ]
    }
   ],
   "source": [
    "X.info()"
   ]
  },
  {
   "cell_type": "markdown",
   "id": "986364c5",
   "metadata": {},
   "source": [
    "# split the dataset into train and test data"
   ]
  },
  {
   "cell_type": "code",
   "execution_count": 288,
   "id": "323d0d45",
   "metadata": {},
   "outputs": [],
   "source": [
    "from sklearn.model_selection import train_test_split"
   ]
  },
  {
   "cell_type": "code",
   "execution_count": 289,
   "id": "2f50b131",
   "metadata": {},
   "outputs": [],
   "source": [
    "X_train,X_test,y_train,y_test = train_test_split(X,y,test_size=0.3,random_state=1)"
   ]
  },
  {
   "cell_type": "markdown",
   "id": "3bba580d",
   "metadata": {},
   "source": [
    "# Gaussian NB"
   ]
  },
  {
   "cell_type": "code",
   "execution_count": 290,
   "id": "2221181b",
   "metadata": {},
   "outputs": [],
   "source": [
    "import time\n",
    "start = time.time()\n",
    "X = df.drop(['label'], axis=1).astype(float)\n",
    "y = df['label'].astype(float)\n",
    "X_train,X_test,y_train,y_test = train_test_split(X,y,test_size=0.3,random_state=1)"
   ]
  },
  {
   "cell_type": "code",
   "execution_count": 291,
   "id": "9fe88f11",
   "metadata": {},
   "outputs": [],
   "source": [
    "cols = X_train.columns\n",
    "\n",
    "from sklearn.preprocessing import RobustScaler\n",
    "scaler = RobustScaler()\n",
    "\n",
    "X_train = scaler.fit_transform(X_train)\n",
    "X_test = scaler.transform(X_test)\n",
    "\n",
    "X_train = pd.DataFrame(X_train, columns=[cols])\n",
    "X_test = pd.DataFrame(X_test, columns=[cols])"
   ]
  },
  {
   "cell_type": "code",
   "execution_count": 292,
   "id": "8b27fc6c",
   "metadata": {},
   "outputs": [
    {
     "data": {
      "text/plain": [
       "GaussianNB()"
      ]
     },
     "execution_count": 292,
     "metadata": {},
     "output_type": "execute_result"
    }
   ],
   "source": [
    "# train a Gaussian Naive Bayes classifier on the training set\n",
    "from sklearn.naive_bayes import GaussianNB\n",
    "\n",
    "# instantiate the model\n",
    "gnb = GaussianNB()\n",
    "\n",
    "# fit the model\n",
    "gnb.fit(X_train, y_train)"
   ]
  },
  {
   "cell_type": "code",
   "execution_count": 293,
   "id": "33bf9c1e",
   "metadata": {},
   "outputs": [
    {
     "name": "stdout",
     "output_type": "stream",
     "text": [
      "[1. 8. 1. ... 6. 0. 0.]\n"
     ]
    }
   ],
   "source": [
    "#prediction on test data\n",
    "y_pred = gnb.predict(X_test)\n",
    "print(y_pred)"
   ]
  },
  {
   "cell_type": "code",
   "execution_count": 294,
   "id": "c64f8383",
   "metadata": {},
   "outputs": [
    {
     "data": {
      "text/plain": [
       "0.5483333333333333"
      ]
     },
     "execution_count": 294,
     "metadata": {},
     "output_type": "execute_result"
    }
   ],
   "source": [
    "acc_score = gnb.score(X_test,y_test)\n",
    "acc_score"
   ]
  },
  {
   "cell_type": "code",
   "execution_count": 295,
   "id": "7b1fc164",
   "metadata": {},
   "outputs": [
    {
     "data": {
      "text/plain": [
       "array([[1152,    1,   11,    0,    4,    1,   33,    1,   20,   24],\n",
       "       [   1, 1341,    2,    5,    0,    0,   10,    0,   29,    7],\n",
       "       [ 177,   46,  296,  133,    5,    6,  322,    1,  247,   24],\n",
       "       [ 140,   76,   12,  449,    1,    0,   82,   13,  408,  140],\n",
       "       [  48,    9,   12,   11,  194,    4,  135,    3,  211,  605],\n",
       "       [ 228,   36,    5,   24,    7,   44,   80,    2,  574,  111],\n",
       "       [  15,   29,    2,    0,    2,    3, 1182,    0,   22,    3],\n",
       "       [   5,    8,    1,   15,    8,    0,    3,  375,   44,  826],\n",
       "       [  29,  188,    5,   16,    6,    4,   27,    1,  721,  252],\n",
       "       [   8,   13,    3,    2,   11,    1,    1,   31,   20, 1155]],\n",
       "      dtype=int64)"
      ]
     },
     "execution_count": 295,
     "metadata": {},
     "output_type": "execute_result"
    }
   ],
   "source": [
    "#confusion matrix\n",
    "from sklearn.metrics import confusion_matrix as CM\n",
    "CM(y_test,y_pred)"
   ]
  },
  {
   "cell_type": "code",
   "execution_count": 296,
   "id": "651c3341",
   "metadata": {},
   "outputs": [
    {
     "name": "stdout",
     "output_type": "stream",
     "text": [
      "Training set score: 0.5544\n",
      "Test set score: 0.5483\n"
     ]
    }
   ],
   "source": [
    "#check for overfitting and underfitting\n",
    "print('Training set score: {:.4f}'.format(gnb.score(X_train, y_train)))\n",
    "print('Test set score: {:.4f}'.format(gnb.score(X_test, y_test)))"
   ]
  },
  {
   "cell_type": "code",
   "execution_count": 297,
   "id": "6aa9ad84",
   "metadata": {},
   "outputs": [
    {
     "name": "stdout",
     "output_type": "stream",
     "text": [
      "              precision    recall  f1-score   support\n",
      "\n",
      "         0.0       0.64      0.92      0.76      1247\n",
      "         1.0       0.77      0.96      0.85      1395\n",
      "         2.0       0.85      0.24      0.37      1257\n",
      "         3.0       0.69      0.34      0.45      1321\n",
      "         4.0       0.82      0.16      0.26      1232\n",
      "         5.0       0.70      0.04      0.07      1111\n",
      "         6.0       0.63      0.94      0.75      1258\n",
      "         7.0       0.88      0.29      0.44      1285\n",
      "         8.0       0.31      0.58      0.41      1249\n",
      "         9.0       0.37      0.93      0.53      1245\n",
      "\n",
      "    accuracy                           0.55     12600\n",
      "   macro avg       0.66      0.54      0.49     12600\n",
      "weighted avg       0.67      0.55      0.50     12600\n",
      "\n",
      "16.925122022628784\n"
     ]
    }
   ],
   "source": [
    "#classification reports\n",
    "from sklearn.metrics import classification_report\n",
    "print(classification_report(y_test, y_pred))\n",
    "end = time.time()\n",
    "print(end - start)"
   ]
  },
  {
   "cell_type": "code",
   "execution_count": null,
   "id": "edb47dc3",
   "metadata": {},
   "outputs": [],
   "source": []
  },
  {
   "cell_type": "code",
   "execution_count": null,
   "id": "da45e6ce",
   "metadata": {},
   "outputs": [],
   "source": []
  },
  {
   "cell_type": "markdown",
   "id": "0d6f5fcd",
   "metadata": {},
   "source": [
    "# Multinomial NB"
   ]
  },
  {
   "cell_type": "code",
   "execution_count": 254,
   "id": "33ac9775",
   "metadata": {},
   "outputs": [],
   "source": [
    "import time\n",
    "start = time.time()\n",
    "from sklearn.preprocessing import MinMaxScaler\n",
    "from sklearn.naive_bayes import MultinomialNB\n",
    "from sklearn.model_selection import train_test_split\n",
    "from sklearn.metrics import brier_score_loss"
   ]
  },
  {
   "cell_type": "code",
   "execution_count": 255,
   "id": "6960ce4d",
   "metadata": {},
   "outputs": [],
   "source": [
    "#split the data\n",
    "X = df.drop(['label'], axis=1).astype(float)\n",
    "y = df['label'].astype(float)\n",
    "X_train,X_test,y_train,y_test = train_test_split(X,y,test_size=0.3,random_state=1)\n",
    "#with normalization\n",
    "mms = MinMaxScaler().fit(X_train)\n",
    "X_train = mms.transform(X_train)\n",
    "X_test = mms.transform(X_test)"
   ]
  },
  {
   "cell_type": "code",
   "execution_count": 256,
   "id": "a024ed7e",
   "metadata": {},
   "outputs": [],
   "source": [
    "mnb = MultinomialNB().fit(X_train, y_train)"
   ]
  },
  {
   "cell_type": "code",
   "execution_count": 257,
   "id": "ea923a5b",
   "metadata": {},
   "outputs": [
    {
     "name": "stdout",
     "output_type": "stream",
     "text": [
      "[1. 5. 2. ... 2. 3. 0.]\n"
     ]
    }
   ],
   "source": [
    "#prediction on test data\n",
    "y_pred=mnb.predict(X_test)\n",
    "print(y_pred)"
   ]
  },
  {
   "cell_type": "code",
   "execution_count": 258,
   "id": "614be5a5",
   "metadata": {},
   "outputs": [
    {
     "data": {
      "text/plain": [
       "0.8262698412698413"
      ]
     },
     "execution_count": 258,
     "metadata": {},
     "output_type": "execute_result"
    }
   ],
   "source": [
    "#report accuracy\n",
    "mnb.score(X_test,y_test)"
   ]
  },
  {
   "cell_type": "code",
   "execution_count": 259,
   "id": "40c77349",
   "metadata": {},
   "outputs": [
    {
     "data": {
      "text/plain": [
       "array([[1145,    0,    6,    5,    2,   11,   21,    0,   57,    0],\n",
       "       [   0, 1313,    5,   11,    0,    5,    5,    0,   55,    1],\n",
       "       [  17,   13, 1050,   31,   16,    2,   49,   11,   64,    4],\n",
       "       [   6,   21,   76, 1055,    2,   32,   15,   14,   65,   35],\n",
       "       [   3,    2,   10,    0,  900,    1,   23,    3,   48,  242],\n",
       "       [  33,   10,    8,  138,   30,  737,   23,    2,   99,   31],\n",
       "       [  14,   27,   10,    1,    5,   30, 1156,    0,   15,    0],\n",
       "       [   5,   22,   11,    7,   22,    0,    2, 1071,   40,  105],\n",
       "       [   5,   68,   16,   66,   14,   50,   10,    2,  968,   50],\n",
       "       [  12,   12,    5,   13,   97,    6,    1,   33,   50, 1016]],\n",
       "      dtype=int64)"
      ]
     },
     "execution_count": 259,
     "metadata": {},
     "output_type": "execute_result"
    }
   ],
   "source": [
    "#confusion matrix\n",
    "from sklearn.metrics import confusion_matrix as CM\n",
    "CM(y_test,y_pred)"
   ]
  },
  {
   "cell_type": "code",
   "execution_count": 260,
   "id": "0ac9fc17",
   "metadata": {},
   "outputs": [
    {
     "name": "stdout",
     "output_type": "stream",
     "text": [
      "Training set score: 0.8246\n",
      "Test set score: 0.8263\n"
     ]
    }
   ],
   "source": [
    "#check for overfitting and underfitting\n",
    "print('Training set score: {:.4f}'.format(mnb.score(X_train, y_train)))\n",
    "print('Test set score: {:.4f}'.format(mnb.score(X_test, y_test)))"
   ]
  },
  {
   "cell_type": "code",
   "execution_count": 261,
   "id": "54d527f0",
   "metadata": {},
   "outputs": [
    {
     "name": "stdout",
     "output_type": "stream",
     "text": [
      "              precision    recall  f1-score   support\n",
      "\n",
      "         0.0       0.92      0.92      0.92      1247\n",
      "         1.0       0.88      0.94      0.91      1395\n",
      "         2.0       0.88      0.84      0.86      1257\n",
      "         3.0       0.80      0.80      0.80      1321\n",
      "         4.0       0.83      0.73      0.78      1232\n",
      "         5.0       0.84      0.66      0.74      1111\n",
      "         6.0       0.89      0.92      0.90      1258\n",
      "         7.0       0.94      0.83      0.88      1285\n",
      "         8.0       0.66      0.78      0.71      1249\n",
      "         9.0       0.68      0.82      0.74      1245\n",
      "\n",
      "    accuracy                           0.83     12600\n",
      "   macro avg       0.83      0.82      0.82     12600\n",
      "weighted avg       0.83      0.83      0.83     12600\n",
      "\n",
      "7.421338796615601\n"
     ]
    }
   ],
   "source": [
    "#classification reports\n",
    "from sklearn.metrics import classification_report\n",
    "print(classification_report(y_test, y_pred))\n",
    "end = time.time()\n",
    "print(end - start)"
   ]
  },
  {
   "cell_type": "markdown",
   "id": "9540b6aa",
   "metadata": {},
   "source": [
    "# Multinomial NB with discretization"
   ]
  },
  {
   "cell_type": "code",
   "execution_count": 262,
   "id": "7de78ffe",
   "metadata": {},
   "outputs": [],
   "source": [
    "import time\n",
    "start = time.time()\n",
    "X = df.drop(['label'], axis=1).astype(float)\n",
    "y = df['label'].astype(float)\n",
    "X_train,X_test,y_train,y_test = train_test_split(X,y,test_size=0.3,random_state=1)\n",
    "#normalization\n",
    "mms = MinMaxScaler().fit(X_train)\n",
    "X_train = mms.transform(X_train)\n",
    "X_test = mms.transform(X_test)\n",
    "\n",
    "#discretization\n",
    "import warnings\n",
    "warnings.filterwarnings(\"ignore\")\n",
    "from sklearn.preprocessing import KBinsDiscretizer\n",
    "kbs = KBinsDiscretizer(n_bins=5, encode='onehot').fit(X_train)\n",
    "X_train_ = kbs.transform(X_train)\n",
    "X_test_ = kbs.transform(X_test)"
   ]
  },
  {
   "cell_type": "code",
   "execution_count": 263,
   "id": "4a07411e",
   "metadata": {},
   "outputs": [],
   "source": [
    "mnb = MultinomialNB().fit(X_train_, y_train)"
   ]
  },
  {
   "cell_type": "code",
   "execution_count": 264,
   "id": "e7fe17d5",
   "metadata": {},
   "outputs": [
    {
     "name": "stdout",
     "output_type": "stream",
     "text": [
      "[1. 5. 2. ... 2. 3. 0.]\n"
     ]
    }
   ],
   "source": [
    "#prediction on test data\n",
    "y_pred = mnb.predict(X_test_)\n",
    "\n",
    "print(y_pred)"
   ]
  },
  {
   "cell_type": "code",
   "execution_count": 265,
   "id": "b6372140",
   "metadata": {},
   "outputs": [
    {
     "data": {
      "text/plain": [
       "0.8300793650793651"
      ]
     },
     "execution_count": 265,
     "metadata": {},
     "output_type": "execute_result"
    }
   ],
   "source": [
    "#acc score on test data\n",
    "acc_score = mnb.score(X_test_,y_test)\n",
    "acc_score"
   ]
  },
  {
   "cell_type": "code",
   "execution_count": 266,
   "id": "e1230fbb",
   "metadata": {},
   "outputs": [
    {
     "data": {
      "text/plain": [
       "array([[1133,    0,   14,    7,    3,   52,   19,    2,   17,    0],\n",
       "       [   0, 1325,   30,    4,    0,   21,    3,    2,   10,    0],\n",
       "       [  14,   37, 1017,   45,   26,    6,   49,   15,   42,    6],\n",
       "       [  14,   20,   57, 1019,    3,   80,    9,   15,   76,   28],\n",
       "       [   2,    6,    6,    0, 1024,    3,   26,    8,   12,  145],\n",
       "       [  34,   29,   24,  119,   37,  795,   19,   13,   10,   31],\n",
       "       [  11,   31,   31,    2,   26,   38, 1115,    0,    4,    0],\n",
       "       [   8,   26,   35,    3,   27,    5,    0, 1087,   12,   82],\n",
       "       [   8,   55,   20,   83,   16,   48,    9,    6,  964,   40],\n",
       "       [  13,   21,   13,   17,  106,   16,    8,   48,   23,  980]],\n",
       "      dtype=int64)"
      ]
     },
     "execution_count": 266,
     "metadata": {},
     "output_type": "execute_result"
    }
   ],
   "source": [
    "from sklearn.metrics import confusion_matrix as CM\n",
    "CM(y_test,y_pred)"
   ]
  },
  {
   "cell_type": "code",
   "execution_count": 267,
   "id": "879aa010",
   "metadata": {},
   "outputs": [
    {
     "name": "stdout",
     "output_type": "stream",
     "text": [
      "Training set score: 0.8229\n",
      "Test set score: 0.8301\n"
     ]
    }
   ],
   "source": [
    "#check for overfitting and underfitting\n",
    "print('Training set score: {:.4f}'.format(mnb.score(X_train_, y_train)))\n",
    "print('Test set score: {:.4f}'.format(mnb.score(X_test_, y_test)))"
   ]
  },
  {
   "cell_type": "code",
   "execution_count": 268,
   "id": "cd823302",
   "metadata": {},
   "outputs": [
    {
     "name": "stdout",
     "output_type": "stream",
     "text": [
      "              precision    recall  f1-score   support\n",
      "\n",
      "         0.0       0.92      0.91      0.91      1247\n",
      "         1.0       0.85      0.95      0.90      1395\n",
      "         2.0       0.82      0.81      0.81      1257\n",
      "         3.0       0.78      0.77      0.78      1321\n",
      "         4.0       0.81      0.83      0.82      1232\n",
      "         5.0       0.75      0.72      0.73      1111\n",
      "         6.0       0.89      0.89      0.89      1258\n",
      "         7.0       0.91      0.85      0.88      1285\n",
      "         8.0       0.82      0.77      0.80      1249\n",
      "         9.0       0.75      0.79      0.77      1245\n",
      "\n",
      "    accuracy                           0.83     12600\n",
      "   macro avg       0.83      0.83      0.83     12600\n",
      "weighted avg       0.83      0.83      0.83     12600\n",
      "\n"
     ]
    }
   ],
   "source": [
    "#classification reports\n",
    "from sklearn.metrics import classification_report\n",
    "print(classification_report(y_test, y_pred))"
   ]
  },
  {
   "cell_type": "code",
   "execution_count": 269,
   "id": "3ced5f22",
   "metadata": {},
   "outputs": [
    {
     "name": "stdout",
     "output_type": "stream",
     "text": [
      "8.973556756973267\n"
     ]
    }
   ],
   "source": [
    "end = time.time()\n",
    "print(end - start)"
   ]
  },
  {
   "cell_type": "markdown",
   "id": "4ccb55f5",
   "metadata": {},
   "source": [
    "# Learning curves on GNB, DTC when cv=3"
   ]
  },
  {
   "cell_type": "code",
   "execution_count": 300,
   "id": "3a7df0a4",
   "metadata": {},
   "outputs": [],
   "source": [
    "from sklearn.preprocessing import StandardScaler\n",
    "from sklearn.pipeline import make_pipeline\n",
    "from sklearn.naive_bayes import GaussianNB\n",
    "from sklearn.tree import DecisionTreeClassifier as DTC\n",
    "from sklearn.model_selection import learning_curve"
   ]
  },
  {
   "cell_type": "code",
   "execution_count": 301,
   "id": "7c465db9",
   "metadata": {},
   "outputs": [
    {
     "name": "stdout",
     "output_type": "stream",
     "text": [
      "32.86626386642456\n"
     ]
    },
    {
     "data": {
      "image/png": "[encoded data removed]",
      "text/plain": [
       "<Figure size 432x288 with 1 Axes>"
      ]
     },
     "metadata": {},
     "output_type": "display_data"
    }
   ],
   "source": [
    "#split the data\n",
    "X = df.drop(['label'], axis=1).astype(float)\n",
    "y = df['label'].astype(float)\n",
    "X_train,X_test,y_train,y_test = train_test_split(X,y,test_size=0.3,random_state=1)\n",
    "#GNB\n",
    "import time\n",
    "start = time.time()\n",
    "\n",
    "pipe_gnb = make_pipeline(StandardScaler(), GaussianNB())\n",
    "\n",
    "train_sizes, train_scores, test_scores = learning_curve(estimator=pipe_gnb, X=X_train, y=y_train, cv=3,n_jobs=4)\n",
    "\n",
    "train_mean = np.mean(train_scores, axis=1)\n",
    "train_std = np.std(train_scores, axis=1)\n",
    "test_mean = np.mean(test_scores, axis=1)\n",
    "test_std = np.std(test_scores, axis=1)\n",
    "# learning curve with bandwidths(GNB)\n",
    "plt.plot(train_sizes, train_mean, color='blue', marker='o',markersize=5, label='training accuracy')\n",
    "plt.fill_between(train_sizes, train_mean+train_std,train_mean-train_std, alpha=0.15, color='blue')\n",
    "\n",
    "plt.plot(train_sizes, test_mean, color='red', marker='s',\n",
    "         markersize=5, label='validation accuracy')\n",
    "plt.fill_between(train_sizes, test_mean+test_std,\n",
    "                 test_mean-test_std, alpha=0.15, color='red')\n",
    "\n",
    "plt.xlabel(\"Number of training samples\")\n",
    "plt.ylabel(\"Accuracy\")\n",
    "plt.legend(loc='lower right')\n",
    "plt.ylim([0.1, 1.01])\n",
    "plt.savefig('te.png', dpi=1000)\n",
    "\n",
    "end = time.time()\n",
    "print(end - start)"
   ]
  },
  {
   "cell_type": "code",
   "execution_count": 302,
   "id": "38244532",
   "metadata": {},
   "outputs": [
    {
     "name": "stdout",
     "output_type": "stream",
     "text": [
      "26.879809379577637\n"
     ]
    },
    {
     "data": {
      "image/png": "[encoded data removed]",
      "text/plain": [
       "<Figure size 432x288 with 1 Axes>"
      ]
     },
     "metadata": {},
     "output_type": "display_data"
    }
   ],
   "source": [
    "#Decision Tree\n",
    "\n",
    "#split the data\n",
    "X = df.drop(['label'], axis=1).astype(float)\n",
    "y = df['label'].astype(float)\n",
    "X_train,X_test,y_train,y_test = train_test_split(X,y,test_size=0.3,random_state=1)\n",
    "#Decision Tree\n",
    "import time\n",
    "start = time.time()\n",
    "pipe_dtc = make_pipeline(StandardScaler(), DTC(criterion='entropy', max_depth=7, min_samples_split=3))\n",
    "\n",
    "train_sizes, train_scores, test_scores = learning_curve(estimator=pipe_dtc, X=X_train, y=y_train, cv=3,n_jobs=4)\n",
    "\n",
    "train_mean = np.mean(train_scores, axis=1)\n",
    "train_std = np.std(train_scores, axis=1)\n",
    "test_mean = np.mean(test_scores, axis=1)\n",
    "test_std = np.std(test_scores, axis=1)\n",
    "# learning curve with bandwidths(DecisionTree)\n",
    "plt.plot(train_sizes, train_mean, color='blue', marker='o',markersize=5, label='training accuracy')\n",
    "plt.fill_between(train_sizes, train_mean+train_std,train_mean-train_std, alpha=0.15, color='blue')\n",
    "\n",
    "plt.plot(train_sizes, test_mean, color='red', marker='s',\n",
    "         markersize=5, label='validation accuracy')\n",
    "plt.fill_between(train_sizes, test_mean+test_std,\n",
    "                 test_mean-test_std, alpha=0.15, color='red')\n",
    "\n",
    "plt.xlabel(\"Number of training samples\")\n",
    "plt.ylabel(\"Accuracy\")\n",
    "plt.legend(loc='lower right')\n",
    "plt.ylim([0.1, 1.01])\n",
    "plt.savefig('te.png', dpi=1000)\n",
    "\n",
    "end = time.time()\n",
    "print(end - start)"
   ]
  },
  {
   "cell_type": "code",
   "execution_count": 303,
   "id": "f46881db",
   "metadata": {},
   "outputs": [
    {
     "name": "stdout",
     "output_type": "stream",
     "text": [
      "6.763206720352173\n"
     ]
    },
    {
     "data": {
      "image/png": "[encoded data removed]",
      "text/plain": [
       "<Figure size 432x288 with 1 Axes>"
      ]
     },
     "metadata": {},
     "output_type": "display_data"
    }
   ],
   "source": [
    "#split the data\n",
    "X = df.drop(['label'], axis=1).astype(float)\n",
    "y = df['label'].astype(float)\n",
    "X_train,X_test,y_train,y_test = train_test_split(X,y,test_size=0.3,random_state=1)\n",
    "#MNB\n",
    "import time\n",
    "start = time.time()\n",
    "\n",
    "pipe_mnb = make_pipeline(MinMaxScaler(), MultinomialNB())\n",
    "\n",
    "train_sizes, train_scores, test_scores = learning_curve(estimator=pipe_mnb, X=X_train, y=y_train, cv=3,n_jobs=4)\n",
    "\n",
    "train_mean = np.mean(train_scores, axis=1)\n",
    "train_std = np.std(train_scores, axis=1)\n",
    "test_mean = np.mean(test_scores, axis=1)\n",
    "test_std = np.std(test_scores, axis=1)\n",
    "# learning curve with bandwidths(GNB)\n",
    "plt.plot(train_sizes, train_mean, color='blue', marker='o',markersize=5, label='training accuracy')\n",
    "plt.fill_between(train_sizes, train_mean+train_std,train_mean-train_std, alpha=0.15, color='blue')\n",
    "\n",
    "plt.plot(train_sizes, test_mean, color='red', marker='s',\n",
    "         markersize=5, label='validation accuracy')\n",
    "plt.fill_between(train_sizes, test_mean+test_std,\n",
    "                 test_mean-test_std, alpha=0.15, color='red')\n",
    "\n",
    "plt.xlabel(\"Number of training samples\")\n",
    "plt.ylabel(\"Accuracy\")\n",
    "plt.legend(loc='lower right')\n",
    "plt.ylim([0.1, 1.01])\n",
    "plt.savefig('te.png', dpi=1000)\n",
    "\n",
    "end = time.time()\n",
    "print(end - start)"
   ]
  },
  {
   "cell_type": "code",
   "execution_count": null,
   "id": "0841b232",
   "metadata": {},
   "outputs": [],
   "source": []
  }
 ],
 "metadata": {
  "kernelspec": {
   "display_name": "Python 3",
   "language": "python",
   "name": "python3"
  },
  "language_info": {
   "codemirror_mode": {
    "name": "ipython",
    "version": 3
   },
   "file_extension": ".py",
   "mimetype": "text/x-python",
   "name": "python",
   "nbconvert_exporter": "python",
   "pygments_lexer": "ipython3",
   "version": "3.9.5"
  }
 },
 "nbformat": 4,
 "nbformat_minor": 5
}
